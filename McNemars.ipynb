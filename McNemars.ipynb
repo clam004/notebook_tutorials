{
  "nbformat": 4,
  "nbformat_minor": 0,
  "metadata": {
    "colab": {
      "name": "McNemars.ipynb",
      "provenance": [],
      "collapsed_sections": [],
      "authorship_tag": "ABX9TyORh8k9tGccV8CxoYsSoyFV",
      "include_colab_link": true
    },
    "kernelspec": {
      "name": "python3",
      "display_name": "Python 3"
    },
    "language_info": {
      "name": "python"
    }
  },
  "cells": [
    {
      "cell_type": "markdown",
      "metadata": {
        "id": "view-in-github",
        "colab_type": "text"
      },
      "source": [
        "<a href=\"https://colab.research.google.com/github/clam004/notebook_tutorials/blob/main/McNemars.ipynb\" target=\"_parent\"><img src=\"https://colab.research.google.com/assets/colab-badge.svg\" alt=\"Open In Colab\"/></a>"
      ]
    },
    {
      "cell_type": "code",
      "execution_count": null,
      "metadata": {
        "id": "yVe61vxINm1w",
        "colab": {
          "base_uri": "https://localhost:8080/"
        },
        "outputId": "3a253e5c-96fa-48f8-a0c8-b8f216f5c267"
      },
      "outputs": [
        {
          "output_type": "stream",
          "name": "stderr",
          "text": [
            "/usr/local/lib/python3.7/dist-packages/statsmodels/tools/_testing.py:19: FutureWarning: pandas.util.testing is deprecated. Use the functions in the public API at pandas.testing instead.\n",
            "  import pandas.util.testing as tm\n"
          ]
        }
      ],
      "source": [
        "import matplotlib.pyplot as plt\n",
        "\n",
        "import numpy as np\n",
        "\n",
        "from statsmodels.stats.contingency_tables import mcnemar\n",
        "\n",
        "import scipy.stats as stats\n",
        "\n",
        "#jupyter stuff\n",
        "%load_ext autoreload\n",
        "%autoreload 2\n",
        "%matplotlib inline"
      ]
    },
    {
      "cell_type": "code",
      "source": [
        "# define contingency table\n",
        "\n",
        "''' \n",
        "      Before\n",
        "      ----------\n",
        "After |  a  |  b |\n",
        "      ---- ---\n",
        "      |  c  |  d |\n",
        "\n",
        "'''\n",
        "\n",
        "\n",
        "\n",
        "'''\n",
        "# Example A: Does an intervention or exposure, change the risk for an outcome, where the outcome can occur more than once \n",
        "#  100 people total are in this study. (Before and After, Same Person, can be different with respect to the outcome) \n",
        "#  all 100 people were exposed to the intervention (or exposure)\n",
        "#  each person is their own control so they are evaluated, aka tested, twice, once before and once after intervention\n",
        "#  30 people had the outcome before intervention and also had the outcome after intervention (a)\n",
        "#  18 people did not have the outcome before intervention and continued not to have the outcome after intervention (d)\n",
        "#  12 people had the outcome before intervention, but after the intervention did not get the outcome (c) \n",
        "#  40 people did not have the outcome before intervention, but after intervention then got the outcome (b)\n",
        "\n",
        "data = [[30, 40],\n",
        "        [12, 18]]\n",
        "\n",
        "\n",
        "By convention many researchers put the After on top \n",
        "but as you can try for yourself, this makes no difference\n",
        "to the results, all you do is transpose, aka flip along the diagonal\n",
        "\n",
        "          After \n",
        "        ----------\n",
        "Before |  a  |  b |\n",
        "       ---- ---\n",
        "       |  c  |  d  |\n",
        "\n",
        "data = [[30, 12],\n",
        "        [40, 18]]\n",
        "'''\n",
        "\n",
        "# Example B - Does smoking relate to cancer?  (Propensity Matched Pairs)\n",
        "\n",
        "data = [[1000, 40],\n",
        "        [200, 60]]\n",
        "\n",
        "# 2600 people total are in this study\n",
        "# 1300 cancer patients and 1300 matched controls are studied\n",
        "# we select based on risk criteria other than smoking in order to see if smoking is correlated with cancer\n",
        "# each cell represents the number of pairs: 1-person with cancer and 1-person without cancer, is a pair\n",
        "# Description of each cell: \n",
        "# 1000 pairs we selected ended up having no smoking history in both the cancer patient and the matched non-cancer patient\n",
        "# 40 is the number of case-control pairs where control was smoker and cancer patient was not\n",
        "# 200 is the number of case-control pairs where control was non-smoker and cancer patient was smoker\n",
        "# 60 is the number of case-control pairs where control was smoker and cancer patient was smoker\n",
        "# McNemar's chi-squared = 105.34, df = 1, p-value < 2.2e-16"
      ],
      "metadata": {
        "id": "b2rh7PSfOJ1G"
      },
      "execution_count": null,
      "outputs": []
    },
    {
      "cell_type": "code",
      "source": [
        "'''\n",
        "mcnemar(table, exact=True, correction=True) \n",
        "\n",
        "where:\n",
        "\n",
        "table: A square contingency table\n",
        "exact: If exact is true, then the exact binomial distribution will be used. If exact is false, then the Chi-Square distribution will be used, \n",
        "       use exact=True if either b or c is small (b + c < 25) to use a exact binomial test instead of chi-squared distribution\n",
        "correction: If true, a continuity correction is used. As a rule of thumb, \n",
        "            this correction is typically applied when any of the cell counts in the table are less than 5.\n",
        "'''\n",
        "\n",
        "#McNemar's Test with continuity correction\n",
        "\n",
        "result = mcnemar(table=data, exact=False, correction=True)  \n",
        "print('statistic', result.statistic, 'pvalue', result.pvalue)\n",
        "\n",
        "#McNemar's Test with no continuity correction \n",
        "\n",
        "result = mcnemar(table=data, exact=False, correction=False)\n",
        "print('statistic', result.statistic, 'pvalue', result.pvalue)"
      ],
      "metadata": {
        "colab": {
          "base_uri": "https://localhost:8080/"
        },
        "id": "D0jCorn1O0KH",
        "outputId": "15aab679-a464-4c87-f1e6-6161b5d78b47"
      },
      "execution_count": null,
      "outputs": [
        {
          "output_type": "stream",
          "name": "stdout",
          "text": [
            "statistic 105.3375 pvalue 1.0300818425382127e-24\n",
            "statistic 106.66666666666667 pvalue 5.26711870469161e-25\n"
          ]
        }
      ]
    },
    {
      "cell_type": "code",
      "source": [
        "# victors code\n",
        "\n",
        "a = np.array(data)\n",
        "\n",
        "x2_statistic_asymp = (a[0, 1] - a[1, 0]) ** 2 / (a[0, 1] + a[1, 0])\n",
        "\n",
        "p = stats.chi2.sf(x2_statistic_asymp, 1)\n",
        "\n",
        "print(p) # this p val is consistent with the exact=False, correction=False version above"
      ],
      "metadata": {
        "colab": {
          "base_uri": "https://localhost:8080/"
        },
        "id": "QrmJknwIN9T_",
        "outputId": "d1a882c2-691e-4011-a43b-e5eb97945bb6"
      },
      "execution_count": null,
      "outputs": [
        {
          "output_type": "stream",
          "name": "stdout",
          "text": [
            "5.26711870469161e-25\n"
          ]
        }
      ]
    },
    {
      "cell_type": "code",
      "source": [
        "# https://www.statology.org/mcnemars-test-python/\n",
        "# https://en.wikipedia.org/wiki/McNemar%27s_test\n",
        "# https://aaronschlegel.me/mcnemars-test-paired-data-python.html\n",
        "# https://stats.stackexchange.com/questions/147559/fisher-exact-test-on-paired-data"
      ],
      "metadata": {
        "id": "POKNPiQjSPHC"
      },
      "execution_count": null,
      "outputs": []
    }
  ]
}